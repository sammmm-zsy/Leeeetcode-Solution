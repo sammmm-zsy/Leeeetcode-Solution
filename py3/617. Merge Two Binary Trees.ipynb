{
 "cells": [
  {
   "cell_type": "markdown",
   "id": "9710fd72",
   "metadata": {},
   "source": [
    "# 617. Merge Two Binary Trees\n",
    "\n",
    "Method: DPS and recursion"
   ]
  },
  {
   "cell_type": "code",
   "execution_count": null,
   "id": "1f49360f",
   "metadata": {},
   "outputs": [],
   "source": [
    "# Definition for a binary tree node.\n",
    "# class TreeNode:\n",
    "#     def __init__(self, val=0, left=None, right=None):\n",
    "#         self.val = val\n",
    "#         self.left = left\n",
    "#         self.right = right\n",
    "class Solution:\n",
    "    def mergeTrees(self, root1: Optional[TreeNode], root2: Optional[TreeNode]) -> Optional[TreeNode]:\n",
    "        if not root1 or not root2:\n",
    "            return root2 or root1\n",
    "\n",
    "        elif root1 and root2:\n",
    "            root1.val+=root2.val\n",
    "\n",
    "        root1.left=self.mergeTrees(root1.left,root2.left)\n",
    "        root1.right=self.mergeTrees(root1.right,root2.right)\n",
    "\n",
    "        return root1"
   ]
  }
 ],
 "metadata": {
  "kernelspec": {
   "display_name": "Python 3 (ipykernel)",
   "language": "python",
   "name": "python3"
  },
  "language_info": {
   "codemirror_mode": {
    "name": "ipython",
    "version": 3
   },
   "file_extension": ".py",
   "mimetype": "text/x-python",
   "name": "python",
   "nbconvert_exporter": "python",
   "pygments_lexer": "ipython3",
   "version": "3.7.1"
  }
 },
 "nbformat": 4,
 "nbformat_minor": 5
}
